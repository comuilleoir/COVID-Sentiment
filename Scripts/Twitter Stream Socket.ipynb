{
 "cells": [
  {
   "cell_type": "code",
   "execution_count": 2,
   "id": "04645d70",
   "metadata": {},
   "outputs": [],
   "source": [
    "import tweepy\n",
    "from tweepy import Stream\n",
    "import socket"
   ]
  },
  {
   "cell_type": "code",
   "execution_count": 3,
   "id": "d706bfa2",
   "metadata": {},
   "outputs": [],
   "source": [
    "# Bearer token for twitter api v2 authentication\n",
    "bearer_token = \"X\""
   ]
  },
  {
   "cell_type": "code",
   "execution_count": 4,
   "id": "365f8431",
   "metadata": {},
   "outputs": [],
   "source": [
    "# set up stream class that inherits from tweepy.StreamClient\n",
    "\n",
    "class TweetsListener(tweepy.StreamingClient):\n",
    "  # tweet object listens for the tweets\n",
    "  # socket object is the connection to the client\n",
    "  def setsocket (self , socket):\n",
    "    self.client_socket = socket\n",
    "\n",
    "  # on_tweet is a method that is called when a new tweet is received\n",
    "  def on_tweet(self, tweet):\n",
    "    # print the tweet\n",
    "    print(\"new message \", tweet.text)\n",
    "    # add a break delimiter to each tweet\n",
    "    tweet.text = tweet.text + \"\"\"!ENDOFTWEET!\"\"\"\n",
    "    # send the tweet to the client socket\n",
    "    self.client_socket.send(tweet.text.encode('utf-8'))\n",
    "    # return True to continue listening\n",
    "    return True\n",
    "\n",
    "  # on_error is a method that is called when an error occurs\n",
    "  def on_error(self, status):\n",
    "    # print the error\n",
    "    print(status)\n",
    "    # return True to continue listening\n",
    "    return True"
   ]
  },
  {
   "cell_type": "code",
   "execution_count": 5,
   "id": "6699be54",
   "metadata": {},
   "outputs": [],
   "source": [
    "# define a function that will connect to the client socket with the required rules\n",
    "\n",
    "def send_tweets(c_socket, keyword):\n",
    "  print('Start sending data from Twitter to socket')\n",
    "  \n",
    "  # start sending data from the Streaming API \n",
    "  stream = TweetsListener(bearer_token)\n",
    "  stream.add_rules(add = tweepy.StreamRule(\"{}\".format(keyword)))\n",
    "  stream.add_rules(add = tweepy.StreamRule(\"lang:en\"))\n",
    "  stream.add_rules(add = tweepy.StreamRule(\"-is:retweet\"))\n",
    "  stream.setsocket(c_socket)\n",
    "  stream.filter()"
   ]
  }
 ],
 "metadata": {
  "language_info": {
   "name": "python"
  }
 },
 "nbformat": 4,
 "nbformat_minor": 2
}
